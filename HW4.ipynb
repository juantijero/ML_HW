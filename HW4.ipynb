{
  "nbformat": 4,
  "nbformat_minor": 0,
  "metadata": {
    "colab": {
      "provenance": [],
      "authorship_tag": "ABX9TyMMYgR7FrtfUcDf0scy984S",
      "include_colab_link": true
    },
    "kernelspec": {
      "name": "python3",
      "display_name": "Python 3"
    },
    "language_info": {
      "name": "python"
    }
  },
  "cells": [
    {
      "cell_type": "markdown",
      "metadata": {
        "id": "view-in-github",
        "colab_type": "text"
      },
      "source": [
        "<a href=\"https://colab.research.google.com/github/juantijero/ML_HW/blob/main/HW4.ipynb\" target=\"_parent\"><img src=\"https://colab.research.google.com/assets/colab-badge.svg\" alt=\"Open In Colab\"/></a>"
      ]
    },
    {
      "cell_type": "code",
      "execution_count": 17,
      "metadata": {
        "colab": {
          "base_uri": "https://localhost:8080/"
        },
        "id": "oTXHDb2it29l",
        "outputId": "85ee8c61-d4c4-4271-fa6f-70085fe90f3c"
      },
      "outputs": [
        {
          "output_type": "stream",
          "name": "stdout",
          "text": [
            "Data loaded and split successfully.\n",
            "Training features shape: (455, 30)\n",
            "Validation features shape: (114, 30)\n"
          ]
        }
      ],
      "source": [
        "import pandas as pd\n",
        "import numpy as np\n",
        "import matplotlib.pyplot as plt\n",
        "\n",
        "from sklearn.datasets import load_breast_cancer\n",
        "from sklearn.model_selection import train_test_split\n",
        "from sklearn.preprocessing import StandardScaler\n",
        "from sklearn.svm import SVC\n",
        "from sklearn.linear_model import LogisticRegression\n",
        "from sklearn.metrics import classification_report, accuracy_score\n",
        "\n",
        "# 1. Load the dataset\n",
        "cancer = load_breast_cancer()\n",
        "X = cancer.data\n",
        "y = cancer.target\n",
        "\n",
        "# 2. Split the data\n",
        "X_train, X_val, y_train, y_val = train_test_split(X, y, test_size=0.2, random_state=69)\n",
        "\n",
        "print(\"Data loaded and split successfully.\")\n",
        "print(\"Training features shape:\", X_train.shape)\n",
        "print(\"Validation features shape:\", X_val.shape)"
      ]
    },
    {
      "cell_type": "code",
      "source": [
        "# 1. Create the scaler object\n",
        "scaler = StandardScaler()\n",
        "\n",
        "# 2. Fit and transform the training data\n",
        "X_train_scaled = scaler.fit_transform(X_train)\n",
        "\n",
        "# 3. Only transform the validation data\n",
        "X_val_scaled = scaler.transform(X_val)\n",
        "\n",
        "print(\"Data scaled successfully.\")\n",
        "print(\"Original mean of first feature:\", X_train[:,0].mean())\n",
        "print(\"Scaled mean of first feature:\", X_train_scaled[:,0].mean())"
      ],
      "metadata": {
        "colab": {
          "base_uri": "https://localhost:8080/"
        },
        "id": "x7fh6sdRukJ7",
        "outputId": "0ac46eb4-e09d-47e6-c276-326c3937ae0b"
      },
      "execution_count": 18,
      "outputs": [
        {
          "output_type": "stream",
          "name": "stdout",
          "text": [
            "Data scaled successfully.\n",
            "Original mean of first feature: 14.024430769230769\n",
            "Scaled mean of first feature: -1.3430038522059036e-15\n"
          ]
        }
      ]
    },
    {
      "cell_type": "code",
      "source": [
        "# 1. Train and test LINEAR SVM\n",
        "print(\"1. Linear SVM Results\")\n",
        "linear_svm = SVC(kernel='linear', random_state=42)\n",
        "linear_svm.fit(X_train_scaled, y_train)\n",
        "y_pred_linear = linear_svm.predict(X_val_scaled)\n",
        "print(classification_report(y_val, y_pred_linear, target_names=cancer.target_names))\n",
        "\n",
        "# 2. Train and test NON-LINEAR (RBF) SVM\n",
        "print(\"2. Non-Linear (RBF) SVM Results\")\n",
        "rbf_svm = SVC(kernel='rbf', random_state=42)\n",
        "rbf_svm.fit(X_train_scaled, y_train)\n",
        "y_pred_rbf = rbf_svm.predict(X_val_scaled)\n",
        "print(classification_report(y_val, y_pred_rbf, target_names=cancer.target_names))\n",
        "\n",
        "# 3. Train and test Logistic Regression (for comparison)\n",
        "print(\"3. Logistic Regression\")\n",
        "log_reg = LogisticRegression(random_state=42)\n",
        "log_reg.fit(X_train_scaled, y_train)\n",
        "y_pred_log_reg = log_reg.predict(X_val_scaled)\n",
        "print(classification_report(y_val, y_pred_log_reg, target_names=cancer.target_names))"
      ],
      "metadata": {
        "colab": {
          "base_uri": "https://localhost:8080/"
        },
        "id": "vJmW42tbvXAV",
        "outputId": "708b891f-ab3d-4da8-c07d-0faeb555ecb9"
      },
      "execution_count": 19,
      "outputs": [
        {
          "output_type": "stream",
          "name": "stdout",
          "text": [
            "1. Linear SVM Results\n",
            "              precision    recall  f1-score   support\n",
            "\n",
            "   malignant       0.98      0.94      0.96        54\n",
            "      benign       0.95      0.98      0.97        60\n",
            "\n",
            "    accuracy                           0.96       114\n",
            "   macro avg       0.97      0.96      0.96       114\n",
            "weighted avg       0.97      0.96      0.96       114\n",
            "\n",
            "2. Non-Linear (RBF) SVM Results\n",
            "              precision    recall  f1-score   support\n",
            "\n",
            "   malignant       0.98      0.94      0.96        54\n",
            "      benign       0.95      0.98      0.97        60\n",
            "\n",
            "    accuracy                           0.96       114\n",
            "   macro avg       0.97      0.96      0.96       114\n",
            "weighted avg       0.97      0.96      0.96       114\n",
            "\n",
            "3. Logistic Regression\n",
            "              precision    recall  f1-score   support\n",
            "\n",
            "   malignant       0.98      0.91      0.94        54\n",
            "      benign       0.92      0.98      0.95        60\n",
            "\n",
            "    accuracy                           0.95       114\n",
            "   macro avg       0.95      0.95      0.95       114\n",
            "weighted avg       0.95      0.95      0.95       114\n",
            "\n"
          ]
        }
      ]
    },
    {
      "cell_type": "code",
      "source": [
        "# Experiment with different C and gamma\n",
        "rbf_svm_tuned = SVC(kernel='rbf', C=10, gamma=0.1, random_state=69)\n",
        "\n",
        "# Then just fit and predict as normal\n",
        "rbf_svm_tuned.fit(X_train_scaled, y_train)\n",
        "y_pred_tuned = rbf_svm_tuned.predict(X_val_scaled)\n",
        "print(classification_report(y_val, y_pred_tuned, target_names=cancer.target_names))"
      ],
      "metadata": {
        "colab": {
          "base_uri": "https://localhost:8080/"
        },
        "id": "um6qAKdCJSjN",
        "outputId": "df323d63-5499-4f07-8e93-713891c0f7c7"
      },
      "execution_count": 20,
      "outputs": [
        {
          "output_type": "stream",
          "name": "stdout",
          "text": [
            "              precision    recall  f1-score   support\n",
            "\n",
            "   malignant       0.95      0.96      0.95        54\n",
            "      benign       0.97      0.95      0.96        60\n",
            "\n",
            "    accuracy                           0.96       114\n",
            "   macro avg       0.96      0.96      0.96       114\n",
            "weighted avg       0.96      0.96      0.96       114\n",
            "\n"
          ]
        }
      ]
    },
    {
      "cell_type": "code",
      "source": [
        "# Try a smaller C to increase regularization\n",
        "rbf_svm_tuned = SVC(kernel='rbf', C=0.1, random_state=69)\n",
        "rbf_svm_tuned.fit(X_train_scaled, y_train)\n",
        "y_pred_tuned = rbf_svm_tuned.predict(X_val_scaled)\n",
        "print(\"--- C=0.1 ---\")\n",
        "print(classification_report(y_val, y_pred_tuned, target_names=cancer.target_names))\n",
        "\n",
        "# Try a smaller gamma to make the boundary smoother\n",
        "rbf_svm_tuned = SVC(kernel='rbf', gamma=0.01, random_state=69)\n",
        "rbf_svm_tuned.fit(X_train_scaled, y_train)\n",
        "y_pred_tuned = rbf_svm_tuned.predict(X_val_scaled)\n",
        "print(\"--- gamma=0.01 ---\")\n",
        "print(classification_report(y_val, y_pred_tuned, target_names=cancer.target_names))"
      ],
      "metadata": {
        "colab": {
          "base_uri": "https://localhost:8080/"
        },
        "id": "Zzht-QjQJ5U4",
        "outputId": "4eb5732f-4a77-4b75-ea93-02f5e4b846b6"
      },
      "execution_count": 21,
      "outputs": [
        {
          "output_type": "stream",
          "name": "stdout",
          "text": [
            "--- C=0.1 ---\n",
            "              precision    recall  f1-score   support\n",
            "\n",
            "   malignant       0.94      0.87      0.90        54\n",
            "      benign       0.89      0.95      0.92        60\n",
            "\n",
            "    accuracy                           0.91       114\n",
            "   macro avg       0.92      0.91      0.91       114\n",
            "weighted avg       0.91      0.91      0.91       114\n",
            "\n",
            "--- gamma=0.01 ---\n",
            "              precision    recall  f1-score   support\n",
            "\n",
            "   malignant       0.98      0.93      0.95        54\n",
            "      benign       0.94      0.98      0.96        60\n",
            "\n",
            "    accuracy                           0.96       114\n",
            "   macro avg       0.96      0.95      0.96       114\n",
            "weighted avg       0.96      0.96      0.96       114\n",
            "\n"
          ]
        }
      ]
    },
    {
      "cell_type": "code",
      "source": [
        "from sklearn.model_selection import GridSearchCV\n",
        "\n",
        "# 1. Define the parameter \"grid\" you want to search\n",
        "param_grid = {\n",
        "    'C': [0.01, 0.1, 1, 10, 100],\n",
        "    'gamma': [0.001, 0.01, 0.1, 1]\n",
        "}\n",
        "\n",
        "# 2. Create the GridSearch object\n",
        "# This will test an RBF SVM\n",
        "# It will use 5-fold cross-validation (cv=5) to test all combinations\n",
        "grid_search = GridSearchCV(\n",
        "    SVC(kernel='rbf', random_state=69), # The model to tune\n",
        "    param_grid,                         # The parameters to test\n",
        "    cv=5,                               # Number of folds\n",
        "    scoring='accuracy',                 # The metric to optimize\n",
        "    verbose=1                           # Shows progress\n",
        ")\n",
        "\n",
        "# 3. Run the search\n",
        "# This will take a minute or two to run\n",
        "print(\"Running Grid Search...\")\n",
        "grid_search.fit(X_train_scaled, y_train)\n",
        "\n",
        "# 4. Print the best results\n",
        "print(\"\\nGrid Search Complete.\")\n",
        "print(\"The best parameters found are:\", grid_search.best_params_)\n",
        "print(f\"The best accuracy found was: {grid_search.best_score_:.4f}\")"
      ],
      "metadata": {
        "colab": {
          "base_uri": "https://localhost:8080/"
        },
        "id": "E6RsyVahm3gV",
        "outputId": "59a32dc8-0b20-4a56-aa2d-b3172f3433d8"
      },
      "execution_count": 22,
      "outputs": [
        {
          "output_type": "stream",
          "name": "stdout",
          "text": [
            "Running Grid Search...\n",
            "Fitting 5 folds for each of 20 candidates, totalling 100 fits\n",
            "\n",
            "Grid Search Complete.\n",
            "The best parameters found are: {'C': 10, 'gamma': 0.01}\n",
            "The best accuracy found was: 0.9780\n"
          ]
        }
      ]
    },
    {
      "cell_type": "code",
      "source": [
        "from sklearn.model_selection import GridSearchCV\n",
        "\n",
        "# 1. Define the parameter \"grid\" you want to search\n",
        "param_grid = {\n",
        "    'C': [0.01, 0.1, 1, 10, 100],\n",
        "    'gamma': [0.001, 0.01, 0.1, 1]\n",
        "}\n",
        "\n",
        "# 2. Create the GridSearch object\n",
        "# This will test an RBF SVM\n",
        "# It will use 5-fold cross-validation (cv=5) to test all combinations\n",
        "grid_search = GridSearchCV(\n",
        "    SVC(kernel='linear', random_state=69), # The model to tune\n",
        "    param_grid,                         # The parameters to test\n",
        "    cv=5,                               # Number of folds\n",
        "    scoring='accuracy',                 # The metric to optimize\n",
        "    verbose=1                           # Shows progress\n",
        ")\n",
        "\n",
        "# 3. Run the search\n",
        "# This will take a minute or two to run\n",
        "print(\"Running Grid Search...\")\n",
        "grid_search.fit(X_train_scaled, y_train)\n",
        "\n",
        "# 4. Print the best results\n",
        "print(\"\\nGrid Search Complete.\")\n",
        "print(\"The best parameters found are:\", grid_search.best_params_)\n",
        "print(f\"The best accuracy found was: {grid_search.best_score_:.4f}\")"
      ],
      "metadata": {
        "colab": {
          "base_uri": "https://localhost:8080/"
        },
        "outputId": "8e67d4f9-92df-4842-db29-88d8c4e5ed21",
        "id": "cHKv6qZwtMvM"
      },
      "execution_count": 26,
      "outputs": [
        {
          "output_type": "stream",
          "name": "stdout",
          "text": [
            "Running Grid Search...\n",
            "Fitting 5 folds for each of 20 candidates, totalling 100 fits\n",
            "\n",
            "Grid Search Complete.\n",
            "The best parameters found are: {'C': 1, 'gamma': 0.001}\n",
            "The best accuracy found was: 0.9758\n"
          ]
        }
      ]
    }
  ]
}